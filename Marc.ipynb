{
 "cells": [
  {
   "cell_type": "code",
   "execution_count": 3,
   "metadata": {
    "collapsed": true
   },
   "outputs": [],
   "source": [
    "def DTW(V1,V2):\n",
    "    #We make a matrix 1 row and 1 column greater than what we need to avoid problems\n",
    "    l1,l2=len(V1)+1,len(V2)+1\n",
    "    #Our matrix will store the current distance in the first position and its origin in the second, in where:\n",
    "    #    0=diagonal\n",
    "    #    1=up\n",
    "    #    2=left\n",
    "    m=[[(i,0) for i in range(l2)]for i in range(l1)]\n",
    "    \n",
    "    #First column will set to infinite, because even if the algorithm doesn't care about time\n",
    "    #It cares about the pattern\n",
    "    for i in m[1:]:\n",
    "        i[0]=(float('inf'),0)\n",
    "\n",
    "    #Fill the matrix\n",
    "    for i in range(1,l1):\n",
    "        for j in range(1,l2):\n",
    "            ins=m[i][j-1][0]+1*(V2[i-1]!=V2[i-2])\n",
    "            sub=m[i-1][j-1][0]+1*(V1[i-1]!=V2[j-1])\n",
    "            el=m[i-1][j][0]+1\n",
    "            mm=[sub,el,ins]\n",
    "            minm=min(mm)\n",
    "            m[i][j]=(minm,mm.index(minm))   \n",
    "\n",
    "    return m[-1][-1][0]"
   ]
  },
  {
   "cell_type": "code",
   "execution_count": 4,
   "metadata": {
    "collapsed": false
   },
   "outputs": [],
   "source": [
    "import webbrowser\n",
    "def searchInGoogle():\n",
    "    \"\"\"\n",
    "    Ask for a text and googles it in a new window\n",
    "    \"\"\"\n",
    "    #We ask what to search\n",
    "    query = raw_input(\"What do you want to search for ? >> \")\n",
    "    #We open google in a new window, searching what the user wanted to.\n",
    "    webbrowser.open('https://www.google.com/#q='+query)\n",
    "    return True"
   ]
  },
  {
   "cell_type": "code",
   "execution_count": 5,
   "metadata": {
    "collapsed": false
   },
   "outputs": [],
   "source": [
    "from dateutil.parser import parse\n",
    "def setUpAnEvent():\n",
    "    #We ask for an event and the date of the event.\n",
    "    eventAction = raw_input(\"What do you want to do? >> \")\n",
    "    eventDay = raw_input(\"When do you want to do it? >> \")\n",
    "    \n",
    "    #Then we pase the date, and change its format to DD/MM/YYYY to store it \n",
    "    formattedDay = parse(eventDay)\n",
    "    formattedDay = formattedDay.strftime('%d/%m/%Y')\n",
    "    \n",
    "    #We ask for confirmation\n",
    "    text = \"Do you confirm the next event: '\"+eventAction+\"' the day (DD/MM/YYYY): \"+formattedDay\n",
    "    confirmation = raw_input(text+\" [Y/N] >> \").lower()\n",
    "    '''\n",
    "    if(confirmation == \"y\" or confirmation == \"yes\"):\n",
    "        #We create a tuple and add it to a file if it is not already added\n",
    "        event=(eventAction,formattedDay)\n",
    "        if(!isAlreadyCreated(event)):\n",
    "            createEvent(event)\n",
    "        else:\n",
    "            print \"Event already created\"\n",
    "    else:\n",
    "        print \"Operation cancelled\"\n",
    "    '''\n"
   ]
  },
  {
   "cell_type": "code",
   "execution_count": 6,
   "metadata": {
    "collapsed": true
   },
   "outputs": [],
   "source": [
    "def check(options, answer):\n",
    "    sim=[]\n",
    "    for i in options:\n",
    "        if len(answer)>len(i):\n",
    "            d=single(i,answer)\n",
    "        else:\n",
    "            d=single(answer,i)\n",
    "        sim.append(d)\n",
    "    if all(i==float('inf') for i in sim):\n",
    "        return -1\n",
    "    return sim.index(min(sim))\n",
    "\n",
    "def single(V1,V2):\n",
    "    V1=V1.lower()\n",
    "    V2=V2.lower()\n",
    "    d=DTW(V1,V2)\n",
    "    if d>1:\n",
    "        d=float('inf')\n",
    "    return d"
   ]
  },
  {
   "cell_type": "code",
   "execution_count": 7,
   "metadata": {
    "collapsed": false
   },
   "outputs": [
    {
     "name": "stdout",
     "output_type": "stream",
     "text": [
      "What do you want to eat?\n",
      "\n"
     ]
    },
    {
     "data": {
      "text/plain": [
       "True"
      ]
     },
     "execution_count": 7,
     "metadata": {},
     "output_type": "execute_result"
    }
   ],
   "source": [
    "def food():\n",
    "    #We ask what to search\n",
    "    query=raw_input(\"What do you want to eat?\\n\")\n",
    "    \"\"\"\n",
    "    Ask for a text and googles it in a new window\n",
    "    \"\"\"\n",
    "    #We open google in a new tab, searching what the user wanted to.\n",
    "    webbrowser.open('https://maps.google.com/#q='+query)\n",
    "    return True\n",
    "food()"
   ]
  },
  {
   "cell_type": "code",
   "execution_count": 19,
   "metadata": {
    "collapsed": false
   },
   "outputs": [],
   "source": [
    "#print \"What can I help you with today?\"\n",
    "from collections import Counter\n",
    "def main():\n",
    "    events=Counter()\n",
    "    l = [\"Google\", \"Plan Day\", \"Thank you\", \"Thanks\", \"Who created you?\", \"Calculate\", \"Compute\", \"Add Event\", \"Biene\", \"Bing\", \"Tell Me A Joke\", \"Tell A Joke\", \"When is Half-Life 3 coming out?\", \"When is HL3 coming out?\", \"Bye\"]\n",
    "    while True:\n",
    "        v = raw_input(\"How can I help you today?\\n\")\n",
    "        op = check (l, v) \n",
    "        if op == -1:\n",
    "            print \"\\nSorry, I can't do that, ask your girlfriend if you have one. Which I assume you don't if you're using me.\"\n",
    "        else:\n",
    "            if l[op] == \"Google\":\n",
    "                searchInGoogle()\n",
    "            elif l[op] == \"Plan Day\":\n",
    "                newEvent(events)\n",
    "            elif l[op] == \"Thank You\" or l[op] == \"Thanks\":\n",
    "                print \"You're Welcome\"\n",
    "            elif l[op] == \"Who created you?\":\n",
    "                print \"I was born in a dark room with 3 coffee junkies.\"\n",
    "            elif l[op] == \"Calculate\" or l[op] == \"Compute\":\n",
    "                exp = raw_input(\"What do you want to compute?\\n\")\n",
    "                calculate (exp)\n",
    "            elif l[op] == \"Add Event\":\n",
    "                setUpAnEvent()\n",
    "            elif l[op] == \"Biene\":\n",
    "                openBiene()\n",
    "            elif l[op] == \"Bing\":\n",
    "                openlmgtfy()\n",
    "            elif l[op] == \"Tell Me A Joke\" or l[op] == \"Tell A Joke\":\n",
    "                tellJoke()\n",
    "            elif l[op] == \"When is Half-Life 3 coming out?\" or l[op] == \"When is HL3 coming out?\":\n",
    "                print \"HAHAHAHHAAHAHHAHAHAHAHA=HAHAHAHAHAHAHAHAHAHAHAHAHHAHAHAHAHAHAHAHAHAHAHAHAHAHAHAHAHAHAHAHAHAHAHAHAHAHAHAHAHAHAHAHAHAHAHAHAHAHAHAHAHAHAHAHAHAHAHAHAHHAAHAHHAHAHAHAHAHAHAHAHAHAHAHAHAHAHAHAHAHHAHAHAHAHAHAHAHAHAHAHAHAHAHAHAHAHAHAHAHAHAHAHAHAHAHAHAHAHAHAHAHAHAHAHAHAHAHAHAHAHAHAHAHAHAHAHAHAHHAAHAHHAHAHAHAHAHAHAHAHAHAHAHAHAHAHAHAHAHHAHAHAHAHAHAHAHAHAHAHAHAHAHAHAHAHAHAHAHAHAHAHAHAHAHAHAHAHAHAHAHAHAHAHAHAHAHAHAHAHAHAHAHAHAHAHAHAHHAAHAHHAHAHAHAHAHAHAHAHAHAHAHAHAHAHAHAHAHHAHAHAHAHAHAHAHAHAHAHAHAHAHAHAHAHAHAHAHAHAHAHAHAHAHAHAHAHAHAHAHAHAHAHAHAHAHAHAHAHAHAHAHAHAHAHAHAHHAAHAHHAHAHAHAHAHAHAHAHAHAHAHAHAHAHAHAHAHHAHAHAHAHAHAHAHAHAHAHAHAHAHAHAHAHAHAHAHAHAHAHAHAHAHAHAHAHAHAHAHAHAHAHAHAHAHAHAHAHAHAHAHAHAHAHAHAHHAAHAHHAHAHAHAHAHAHAHAHAHAHAHAHAHAHAHAHAHHAHAHAHAHAHAHAHAHAHAHAHAHAHAHAHAHAHAHAHAHAHAHAHAHAHAHAHAHAHAHAHAHAHAHAHAHAHAHAHAHAHAHAHAHAHAHAHAHHAAHAHHAHAHAHAHAHAHAHAHAHAHAHAHAHAHAHAHAHHAHAHAHAHAHAHAHAHAHAHAHAHAHAHAHAHAHAHAHAHAHAHAHAHAHAHAHAHAHAHAHAHAHAHAHAHAHAHAHAHAHAHAHAHAHAHAHAHHAAHAHHAHAHAHAHAHAHAHAHAHAHAHAHAHAHAHAHAHHAHAHAHAHAHAHAHAHAHAHAHAHAHAHAHAHAHAHAHAHAHAHAHAHAHAHAHAHAHAHAHAHAHAHAHAHAHAHAHAHAHAHAHAHAHAHAHAHHAAHAHHAHAHAHAHAHAHAHAHAHAHAHAHAHAHAHAHAHHAHAHAHAHAHAHAHAHAHAHAHAHAHAHAHAHAHAHAHAHAHAHAHAHAHAHAHAHAHAHAHAHAHAHAHAHAHAHAHAHAHAHAHAHAHAHAHAHHAAHAHHAHAHAHAHAHAHAHAHAHAHAHAHAHAHAHAHAHHAHAHAHAHAHAHAHAHAHAHAHAHAHAHAHAHAHAHAHAHAHAHAHAHAHAHAHAHAHAHAHAHAHAHAHAHAHAHAHAHAHAHAHAHAHAHAHAHHAAHAHHAHAHAHAHAHAHAHAHAHAHAHAHAHAHAHAHAHHAHAHAHAHAHAHAHAHAHAHAHAHAHAHAHAHAHAHAHAHAHAHAHAHAHAHAHAHAHAHAHAHAHAHAHAHAHAHAHAHAHAHAHAHAHAHAHAHHAAHAHHAHAHAHAHAHAHAHAHAHAHAHAHAHAHAHAHAHHAHAHAHAHAHAHAHAHAHAHAHAHAHAHAHAHAHAHAHAHAHAHAHAHAHAHAHAHAHAHAHAHAHAHAHAHAHAHAHAHAHAHAHAHAHAHAHAHHAAHAHHAHAHAHAHAHAHAHAHAHAHAHAHAHAHAHAHAHHAHAHAHAHAHAHAHAHAHAHAHAHAHAHAHAHAHAHAHAHAHAHAHAHAHAHAHAHAHAHAHAHAHAHAHAHAHAHAHAHAHAHAHAHAHAHAHAHHAAHAHHAHAHAHAHAHAHAHAHAHAHAHAHAHAHAHAHAHHAHAHAHAHAHAHAHAHAHAHAHAHAHAHAHAHAHAHAHAHAHAHAHAHAHAHAHAHAHAHAHAHAHAHAHAHAHAHAHAHAHAHAHAHA never.\"\n",
    "            elif l[op] == \"Bye\":\n",
    "                print \"See you next time! :D\"\n",
    "                break"
   ]
  },
  {
   "cell_type": "code",
   "execution_count": 9,
   "metadata": {
    "collapsed": false
   },
   "outputs": [],
   "source": [
    "def openBiene():\n",
    "    webbrowser.open('https://www.rdsbzlabs.com')\n",
    "    return True"
   ]
  },
  {
   "cell_type": "code",
   "execution_count": 10,
   "metadata": {
    "collapsed": false
   },
   "outputs": [],
   "source": [
    "def openlmgtfy():\n",
    "    webbrowser.open('http://www.lmgtfy.com/?q=NO+GOD+PLEASE+NO')\n",
    "    return True"
   ]
  },
  {
   "cell_type": "code",
   "execution_count": 11,
   "metadata": {
    "collapsed": false
   },
   "outputs": [],
   "source": [
    "def calculate(exp):\n",
    "    n=\"\"\n",
    "    c=0\n",
    "    for i in exp:\n",
    "        if i.isdigit():\n",
    "            n+=i\n",
    "        elif not i.isdigit() and c==0 and i!=' ':\n",
    "            n1=float(n)\n",
    "            op=i\n",
    "            n=\"\"\n",
    "            c=1\n",
    "        elif not i.isdigit() and c==1 and i!=' ':\n",
    "            c=0\n",
    "    if c==1:\n",
    "        n2=float(n)\n",
    "        if op=='+':\n",
    "            print n1+n2\n",
    "        elif op=='-':\n",
    "            print n1-n2\n",
    "        elif op=='*' or op.lower()=='x':\n",
    "            print n1*n2\n",
    "        elif op=='/':\n",
    "            print n1/n2\n",
    "        else:\n",
    "            print \"Operation not supported\"\n",
    "    else:\n",
    "        print \"Not a valid expression\""
   ]
  },
  {
   "cell_type": "code",
   "execution_count": 12,
   "metadata": {
    "collapsed": true
   },
   "outputs": [],
   "source": [
    "import random\n",
    "def tellJoke():\n",
    "    f=open(\"jokes.txt\")\n",
    "    jokes=[]\n",
    "    for i in f:\n",
    "        jokes.append(i[:-1])\n",
    "    print jokes[random.randint(0,len(jokes)-1)]\n",
    "    f.close()"
   ]
  },
  {
   "cell_type": "code",
   "execution_count": 13,
   "metadata": {
    "collapsed": true
   },
   "outputs": [],
   "source": [
    "def newEvent(event):\n",
    "    months=[\"Jan\", \"Feb\", \"Mar\", \"Apr\", \"May\", \"Jun\", \"Jul\", \"Aug\", \"Sep\", \"Oct\", \"Nov\", \"Dec\"]\n",
    "    year=int(raw_input(\"Year:\"))\n",
    "    if int(year)<2017:\n",
    "        return -1\n",
    "    month=raw_input(\"Month:\")\n",
    "    pos=check(months, month)\n",
    "    if pos==-1:\n",
    "        return -1\n",
    "    month=months[pos]\n",
    "    days={\"Jan\":31, \"Feb\":28+1*(year%4==0 and year%100!=0), \"Mar\":31, \"Apr\":30, \"May\":31, \"Jun\":30,\n",
    "          \"Jul\":31, \"Aug\":31, \"Sep\":30, \"Oct\":31, \"Nov\":30, \"Dec\":31}\n",
    "    day=int(raw_input(\"Day:\"))\n",
    "    if day<1 or day>days[month]:\n",
    "        return -1    \n",
    "\n",
    "    if event[(day,month,year)]==0:\n",
    "        name=raw_input(\"What will you do?\")\n",
    "        event[(day, month, year)]=name\n",
    "    else:\n",
    "\n",
    "        return 1"
   ]
  },
  {
   "cell_type": "code",
   "execution_count": 18,
   "metadata": {
    "collapsed": false
   },
   "outputs": [
    {
     "name": "stdout",
     "output_type": "stream",
     "text": [
      "How can I help you today?\n",
      "Bye\n",
      "You have chosen Bye\n",
      "See you next time! :D\n"
     ]
    }
   ],
   "source": [
    "main()"
   ]
  },
  {
   "cell_type": "code",
   "execution_count": null,
   "metadata": {
    "collapsed": true
   },
   "outputs": [],
   "source": []
  }
 ],
 "metadata": {
  "anaconda-cloud": {},
  "kernelspec": {
   "display_name": "Python [default]",
   "language": "python",
   "name": "python2"
  },
  "language_info": {
   "codemirror_mode": {
    "name": "ipython",
    "version": 2
   },
   "file_extension": ".py",
   "mimetype": "text/x-python",
   "name": "python",
   "nbconvert_exporter": "python",
   "pygments_lexer": "ipython2",
   "version": "2.7.12"
  }
 },
 "nbformat": 4,
 "nbformat_minor": 1
}
