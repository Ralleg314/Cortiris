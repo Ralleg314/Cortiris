{
 "cells": [
  {
   "cell_type": "code",
   "execution_count": 5,
   "metadata": {
    "collapsed": true
   },
   "outputs": [],
   "source": [
    "def DTW(V1,V2):\n",
    "    #We make a matrix 1 row and 1 column greater than what we need to avoid problems\n",
    "    l1,l2=len(V1)+1,len(V2)+1\n",
    "    #Our matrix will store the current distance in the first position and its origin in the second, in where:\n",
    "    #    0=diagonal\n",
    "    #    1=up\n",
    "    #    2=left\n",
    "    m=[[(i,0) for i in range(l2)]for i in range(l1)]\n",
    "    \n",
    "    #First column will set to infinite, because even if the algorithm doesn't care about time\n",
    "    #It cares about the pattern\n",
    "    for i in m[1:]:\n",
    "        i[0]=(float('inf'),0)\n",
    "\n",
    "    #Fill the matrix\n",
    "    for i in range(1,l1):\n",
    "        for j in range(1,l2):\n",
    "            ins=m[i][j-1][0]+1*(V2[i-1]!=V2[i-2])\n",
    "            sub=m[i-1][j-1][0]+1*(V1[i-1]!=V2[j-1])\n",
    "            el=m[i-1][j][0]+1\n",
    "            mm=[sub,el,ins]\n",
    "            minm=min(mm)\n",
    "            m[i][j]=(minm,mm.index(minm))   \n",
    "\n",
    "    return m[-1][-1][0]"
   ]
  },
  {
   "cell_type": "code",
   "execution_count": 6,
   "metadata": {
    "collapsed": false
   },
   "outputs": [
    {
     "name": "stdout",
     "output_type": "stream",
     "text": [
      "What do you want to search for ? >> \n"
     ]
    },
    {
     "data": {
      "text/plain": [
       "True"
      ]
     },
     "execution_count": 6,
     "metadata": {},
     "output_type": "execute_result"
    }
   ],
   "source": [
    "import webbrowser\n",
    "def searchInGoogle():\n",
    "    \"\"\"\n",
    "    Ask for a text and googles it in a new window\n",
    "    \"\"\"\n",
    "    #We ask what to search\n",
    "    query = raw_input(\"What do you want to search for ? >> \")\n",
    "    #We open google in a new window, searching what the user wanted to.\n",
    "    webbrowser.open('https://www.google.com/#q='+query)\n",
    "    return True\n",
    "searchInGoogle()"
   ]
  },
  {
   "cell_type": "code",
   "execution_count": 7,
   "metadata": {
    "collapsed": false
   },
   "outputs": [
    {
     "name": "stdout",
     "output_type": "stream",
     "text": [
      "What do you want to do? >> \n",
      "When do you want to do it? >> \n"
     ]
    },
    {
     "ename": "ValueError",
     "evalue": "String does not contain a date.",
     "output_type": "error",
     "traceback": [
      "\u001b[0;31m---------------------------------------------------------------------------\u001b[0m",
      "\u001b[0;31mValueError\u001b[0m                                Traceback (most recent call last)",
      "\u001b[0;32m<ipython-input-7-2ee0bb293f8d>\u001b[0m in \u001b[0;36m<module>\u001b[0;34m()\u001b[0m\n\u001b[1;32m     23\u001b[0m         \u001b[0;32mprint\u001b[0m \u001b[0;34m\"Operation cancelled\"\u001b[0m\u001b[0;34m\u001b[0m\u001b[0m\n\u001b[1;32m     24\u001b[0m     '''\n\u001b[0;32m---> 25\u001b[0;31m \u001b[0msetUpAnEvent\u001b[0m\u001b[0;34m(\u001b[0m\u001b[0;34m)\u001b[0m\u001b[0;34m\u001b[0m\u001b[0m\n\u001b[0m",
      "\u001b[0;32m<ipython-input-7-2ee0bb293f8d>\u001b[0m in \u001b[0;36msetUpAnEvent\u001b[0;34m()\u001b[0m\n\u001b[1;32m      6\u001b[0m \u001b[0;34m\u001b[0m\u001b[0m\n\u001b[1;32m      7\u001b[0m     \u001b[0;31m#Then we pase the date, and change its format to DD/MM/YYYY to store it\u001b[0m\u001b[0;34m\u001b[0m\u001b[0;34m\u001b[0m\u001b[0m\n\u001b[0;32m----> 8\u001b[0;31m     \u001b[0mformattedDay\u001b[0m \u001b[0;34m=\u001b[0m \u001b[0mparse\u001b[0m\u001b[0;34m(\u001b[0m\u001b[0meventDay\u001b[0m\u001b[0;34m)\u001b[0m\u001b[0;34m\u001b[0m\u001b[0m\n\u001b[0m\u001b[1;32m      9\u001b[0m     \u001b[0mformattedDay\u001b[0m \u001b[0;34m=\u001b[0m \u001b[0mformattedDay\u001b[0m\u001b[0;34m.\u001b[0m\u001b[0mstrftime\u001b[0m\u001b[0;34m(\u001b[0m\u001b[0;34m'%d/%m/%Y'\u001b[0m\u001b[0;34m)\u001b[0m\u001b[0;34m\u001b[0m\u001b[0m\n\u001b[1;32m     10\u001b[0m \u001b[0;34m\u001b[0m\u001b[0m\n",
      "\u001b[0;32m/home/msbeatles/anaconda2/lib/python2.7/site-packages/dateutil/parser.pyc\u001b[0m in \u001b[0;36mparse\u001b[0;34m(timestr, parserinfo, **kwargs)\u001b[0m\n\u001b[1;32m   1162\u001b[0m         \u001b[0;32mreturn\u001b[0m \u001b[0mparser\u001b[0m\u001b[0;34m(\u001b[0m\u001b[0mparserinfo\u001b[0m\u001b[0;34m)\u001b[0m\u001b[0;34m.\u001b[0m\u001b[0mparse\u001b[0m\u001b[0;34m(\u001b[0m\u001b[0mtimestr\u001b[0m\u001b[0;34m,\u001b[0m \u001b[0;34m**\u001b[0m\u001b[0mkwargs\u001b[0m\u001b[0;34m)\u001b[0m\u001b[0;34m\u001b[0m\u001b[0m\n\u001b[1;32m   1163\u001b[0m     \u001b[0;32melse\u001b[0m\u001b[0;34m:\u001b[0m\u001b[0;34m\u001b[0m\u001b[0m\n\u001b[0;32m-> 1164\u001b[0;31m         \u001b[0;32mreturn\u001b[0m \u001b[0mDEFAULTPARSER\u001b[0m\u001b[0;34m.\u001b[0m\u001b[0mparse\u001b[0m\u001b[0;34m(\u001b[0m\u001b[0mtimestr\u001b[0m\u001b[0;34m,\u001b[0m \u001b[0;34m**\u001b[0m\u001b[0mkwargs\u001b[0m\u001b[0;34m)\u001b[0m\u001b[0;34m\u001b[0m\u001b[0m\n\u001b[0m\u001b[1;32m   1165\u001b[0m \u001b[0;34m\u001b[0m\u001b[0m\n\u001b[1;32m   1166\u001b[0m \u001b[0;34m\u001b[0m\u001b[0m\n",
      "\u001b[0;32m/home/msbeatles/anaconda2/lib/python2.7/site-packages/dateutil/parser.pyc\u001b[0m in \u001b[0;36mparse\u001b[0;34m(self, timestr, default, ignoretz, tzinfos, **kwargs)\u001b[0m\n\u001b[1;32m    556\u001b[0m \u001b[0;34m\u001b[0m\u001b[0m\n\u001b[1;32m    557\u001b[0m         \u001b[0;32mif\u001b[0m \u001b[0mlen\u001b[0m\u001b[0;34m(\u001b[0m\u001b[0mres\u001b[0m\u001b[0;34m)\u001b[0m \u001b[0;34m==\u001b[0m \u001b[0;36m0\u001b[0m\u001b[0;34m:\u001b[0m\u001b[0;34m\u001b[0m\u001b[0m\n\u001b[0;32m--> 558\u001b[0;31m             \u001b[0;32mraise\u001b[0m \u001b[0mValueError\u001b[0m\u001b[0;34m(\u001b[0m\u001b[0;34m\"String does not contain a date.\"\u001b[0m\u001b[0;34m)\u001b[0m\u001b[0;34m\u001b[0m\u001b[0m\n\u001b[0m\u001b[1;32m    559\u001b[0m \u001b[0;34m\u001b[0m\u001b[0m\n\u001b[1;32m    560\u001b[0m         \u001b[0mrepl\u001b[0m \u001b[0;34m=\u001b[0m \u001b[0;34m{\u001b[0m\u001b[0;34m}\u001b[0m\u001b[0;34m\u001b[0m\u001b[0m\n",
      "\u001b[0;31mValueError\u001b[0m: String does not contain a date."
     ]
    }
   ],
   "source": [
    "from dateutil.parser import parse\n",
    "def setUpAnEvent():\n",
    "    #We ask for an event and the date of the event.\n",
    "    eventAction = raw_input(\"What do you want to do? >> \")\n",
    "    eventDay = raw_input(\"When do you want to do it? >> \")\n",
    "    \n",
    "    #Then we pase the date, and change its format to DD/MM/YYYY to store it \n",
    "    formattedDay = parse(eventDay)\n",
    "    formattedDay = formattedDay.strftime('%d/%m/%Y')\n",
    "    \n",
    "    #We ask for confirmation\n",
    "    text = \"Do you confirm the next event: '\"+eventAction+\"' the day (DD/MM/YYYY): \"+formattedDay\n",
    "    confirmation = raw_input(text+\" [Y/N] >> \").lower()\n",
    "    '''\n",
    "    if(confirmation == \"y\" or confirmation == \"yes\"):\n",
    "        #We create a tuple and add it to a file if it is not already added\n",
    "        event=(eventAction,formattedDay)\n",
    "        if(!isAlreadyCreated(event)):\n",
    "            createEvent(event)\n",
    "        else:\n",
    "            print \"Event already created\"\n",
    "    else:\n",
    "        print \"Operation cancelled\"\n",
    "    '''\n",
    "setUpAnEvent()\n"
   ]
  },
  {
   "cell_type": "code",
   "execution_count": 8,
   "metadata": {
    "collapsed": true
   },
   "outputs": [],
   "source": [
    "def check(options, answer):\n",
    "    sim=[]\n",
    "    for i in options:\n",
    "        if len(answer)>len(i):\n",
    "            d=single(i,answer)\n",
    "        else:\n",
    "            d=single(answer,i)\n",
    "        sim.append(d)\n",
    "    if all(i==float('inf') for i in sim):\n",
    "        return -1\n",
    "    return sim.index(min(sim))\n",
    "\n",
    "def single(V1,V2):\n",
    "    V1=V1.lower()\n",
    "    V2=V2.lower()\n",
    "    d=DTW(V1,V2)\n",
    "    if d>1:\n",
    "        d=float('inf')\n",
    "    return d"
   ]
  },
  {
   "cell_type": "code",
   "execution_count": 13,
   "metadata": {
    "collapsed": false
   },
   "outputs": [
    {
     "name": "stdout",
     "output_type": "stream",
     "text": [
      "What do you want to eat?\n",
      "Pizza\n"
     ]
    },
    {
     "data": {
      "text/plain": [
       "True"
      ]
     },
     "execution_count": 13,
     "metadata": {},
     "output_type": "execute_result"
    }
   ],
   "source": [
    "def food():\n",
    "    #We ask what to search\n",
    "    query=raw_input(\"What do you want to eat?\\n\")\n",
    "    \"\"\"\n",
    "    Ask for a text and googles it in a new window\n",
    "    \"\"\"\n",
    "    #We open google in a new tab, searching what the user wanted to.\n",
    "    webbrowser.open('https://maps.google.com/#q='+query)\n",
    "    return True\n",
    "food()"
   ]
  },
  {
   "cell_type": "code",
   "execution_count": 17,
   "metadata": {
    "collapsed": false
   },
   "outputs": [
    {
     "name": "stdout",
     "output_type": "stream",
     "text": [
      "What can I help you with today? \n",
      "Choose one of the following: \n",
      "-Organisation\n",
      "-Food\n",
      "-Work\n",
      "-Free Time\n",
      "-Look Something Up\n",
      "-Nothing\n",
      "polla\n",
      "\n",
      "Sorry, that's not an option\n"
     ]
    }
   ],
   "source": [
    "#print \"What can I help you with today?\"\n",
    "l = [\"Food\", \"Organisation\", \"Look Something Up\", \"Nothing\"]\n",
    "v = raw_input(\"What can I help you with today? \\nChoose one of the following: \\n-Organisation\\n-Food\\n-Work\\n-Free Time\\n-Look Something Up\\n-Nothing\\n\")\n",
    "op = check (l, v) \n",
    "if op == -1:\n",
    "    print \"\\nSorry, that's not an option\"\n",
    "else:\n",
    "    print \"You have chosen\", l[op]\n",
    "    if l[op] == \"Organisation\":\n",
    "        setUpAnEvent()\n",
    "    elif l[op] == \"Look Something Up\":\n",
    "        searchInGoogle()\n",
    "    elif l[op] == \"Food\":\n",
    "        food()"
   ]
  },
  {
   "cell_type": "code",
   "execution_count": null,
   "metadata": {
    "collapsed": true
   },
   "outputs": [],
   "source": []
  }
 ],
 "metadata": {
  "anaconda-cloud": {},
  "kernelspec": {
   "display_name": "Python [default]",
   "language": "python",
   "name": "python2"
  },
  "language_info": {
   "codemirror_mode": {
    "name": "ipython",
    "version": 2
   },
   "file_extension": ".py",
   "mimetype": "text/x-python",
   "name": "python",
   "nbconvert_exporter": "python",
   "pygments_lexer": "ipython2",
   "version": "2.7.12"
  }
 },
 "nbformat": 4,
 "nbformat_minor": 1
}
