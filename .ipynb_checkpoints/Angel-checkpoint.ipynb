{
 "cells": [
  {
   "cell_type": "code",
   "execution_count": 14,
   "metadata": {
    "collapsed": false
   },
   "outputs": [],
   "source": [
    "def DTW(V1,V2):\n",
    "    #We make a matrix 1 row and 1 column greater than what we need to avoid problems\n",
    "    l1,l2=len(V1)+1,len(V2)+1\n",
    "    #Our matrix will store the current distance in the first position and its origin in the second, in where:\n",
    "    #    0=diagonal\n",
    "    #    1=up\n",
    "    #    2=left\n",
    "    m=[[(i,0) for i in range(l2)]for i in range(l1)]\n",
    "    \n",
    "    #First column will set to infinite, because even if the algorithm doesn't care about time\n",
    "    #It cares about the pattern\n",
    "    for i in m[1:]:\n",
    "        i[0]=(float('inf'),0)\n",
    "\n",
    "    #Fill the matrix\n",
    "    for i in range(1,l1):\n",
    "        for j in range(1,l2):\n",
    "            ins=m[i][j-1][0]+1*(V2[i-1]!=V2[i-2])\n",
    "            sub=m[i-1][j-1][0]+1*(V1[i-1]!=V2[j-1])\n",
    "            el=m[i-1][j][0]+1\n",
    "            mm=[sub,el,ins]\n",
    "            minm=min(mm)\n",
    "            m[i][j]=(minm,mm.index(minm))   \n",
    "\n",
    "    return m[-1][-1][0]"
   ]
  },
  {
   "cell_type": "code",
   "execution_count": 112,
   "metadata": {
    "collapsed": false
   },
   "outputs": [],
   "source": [
    "def check(options, answer):\n",
    "    sim=[]\n",
    "    for i in options:\n",
    "        if len(answer)>len(i):\n",
    "            d=single(i,answer)\n",
    "        else:\n",
    "            d=single(answer,i)\n",
    "        sim.append(d)\n",
    "    if all(i==float('inf') for i in sim):\n",
    "        return -1\n",
    "    return sim.index(min(sim))\n",
    "\n",
    "def single(V1,V2):\n",
    "    V1=V1.lower()\n",
    "    V2=V2.lower()\n",
    "    d=DTW(V1,V2)\n",
    "    if d>1:\n",
    "        d=float('inf')\n",
    "    return d"
   ]
  },
  {
   "cell_type": "code",
   "execution_count": 113,
   "metadata": {
    "collapsed": false
   },
   "outputs": [
    {
     "data": {
      "text/plain": [
       "1"
      ]
     },
     "execution_count": 113,
     "metadata": {},
     "output_type": "execute_result"
    }
   ],
   "source": [
    "check([\"alg\", \"quizo\", \"quiza\"], \"quiz\")"
   ]
  },
  {
   "cell_type": "code",
   "execution_count": 17,
   "metadata": {
    "collapsed": false
   },
   "outputs": [
    {
     "name": "stdout",
     "output_type": "stream",
     "text": [
      "Choose between these options:\n",
      "-Pizza\n",
      "-Hamburger\n",
      "-Ramen\n",
      "\n",
      "piza\n",
      "\n",
      "You have chosen Pizza\n"
     ]
    }
   ],
   "source": [
    "#print \"Choose between these options:\\n-Pizza\\n-Hamburger\\n-Ramen\"\n",
    "l=[\"Pizza\",\"Hamburger\",\"Ramen\"]\n",
    "v=raw_input(\"Choose between these options:\\n-Pizza\\n-Hamburger\\n-Ramen\\n\\n\")\n",
    "op=check(l,v)\n",
    "if op==-1:\n",
    "    print \"\\nSorry, that's not an option\"\n",
    "else:\n",
    "    print \"\\nYou have chosen\",l[op]"
   ]
  },
  {
   "cell_type": "code",
   "execution_count": 18,
   "metadata": {
    "collapsed": true
   },
   "outputs": [],
   "source": [
    "def readOptions(name):\n",
    "    f=open(\"Options/\"+name+\".txt\", 'r')\n",
    "    opt=[row[:-1] for row in f]\n",
    "    f.close()\n",
    "    return opt"
   ]
  },
  {
   "cell_type": "code",
   "execution_count": 114,
   "metadata": {
    "collapsed": false
   },
   "outputs": [],
   "source": [
    "def planDay():\n",
    "    f=readOptions(\"Start\")\n",
    "    while True:\n",
    "        print \n",
    "        print f[0]\n",
    "        opt=f[1:-1]\n",
    "        for i in opt:\n",
    "            print '-'+i\n",
    "\n",
    "        if f[-1]==\"Terminal\":\n",
    "            break\n",
    "        else:\n",
    "            v=raw_input()\n",
    "            op=check(opt,v)\n",
    "            if op==-1:\n",
    "                print \"\\nSorry, that's not an option\"\n",
    "                break\n",
    "            elif op==len(opt)-1:\n",
    "                if f[-1]==\"None\":\n",
    "                    print \"\\nOK, no problem\"\n",
    "                    break\n",
    "                print \"\\nGoing back to\", f[-1]\n",
    "                f=readOptions(f[-1])\n",
    "            else:\n",
    "                r=opt[op]\n",
    "                print \"\\nYou have chosen\",r\n",
    "                f=readOptions(r)\n"
   ]
  },
  {
   "cell_type": "code",
   "execution_count": 115,
   "metadata": {
    "collapsed": false
   },
   "outputs": [
    {
     "name": "stdout",
     "output_type": "stream",
     "text": [
      "\n",
      "What do you want to do today?\n",
      "-TV\n",
      "-Game\n",
      "-Read\n",
      "-Eat\n",
      "-Code\n",
      "-Back\n",
      "Game\n",
      "\n",
      "You have chosen Game\n",
      "\n",
      "Currently you have these games installed:\n",
      "-Minecraft\n",
      "-Doom\n",
      "-Bioshock\n",
      "doom\n",
      "\n",
      "You have chosen Doom\n",
      "\n",
      "You are playing Doom...\n",
      "\n",
      "What do you want to do today?\n",
      "-TV\n",
      "-Game\n",
      "-Read\n",
      "-Eat\n",
      "-Code\n",
      "-Back\n",
      "back\n",
      "\n",
      "OK, no problem\n"
     ]
    }
   ],
   "source": [
    "planDay()"
   ]
  },
  {
   "cell_type": "code",
   "execution_count": 55,
   "metadata": {
    "collapsed": false
   },
   "outputs": [],
   "source": [
    "def calculate(exp):\n",
    "    n=\"\"\n",
    "    c=0\n",
    "    for i in exp:\n",
    "        if i.isdigit():\n",
    "            n+=i\n",
    "        elif not i.isdigit() and c==0 and i!=' ':\n",
    "            n1=float(n)\n",
    "            op=i\n",
    "            n=\"\"\n",
    "            c=1\n",
    "        elif not i.isdigit() and c==1 and i!=' ':\n",
    "            c=0\n",
    "    if c==1:\n",
    "        n2=float(n)\n",
    "        if op=='+':\n",
    "            print n1+n2\n",
    "        elif op=='-':\n",
    "            print n1-n2\n",
    "        elif op=='*' or op.lower()=='x':\n",
    "            print n1*n2\n",
    "        elif op=='/':\n",
    "            print n1/n2\n",
    "        else:\n",
    "            print \"Operation not supported\"\n",
    "    else:\n",
    "        print \"Not a valid expression\""
   ]
  },
  {
   "cell_type": "code",
   "execution_count": 109,
   "metadata": {
    "collapsed": false
   },
   "outputs": [
    {
     "name": "stdout",
     "output_type": "stream",
     "text": [
      "11.0\n"
     ]
    }
   ],
   "source": [
    "calculate(\"5+6\")"
   ]
  },
  {
   "cell_type": "code",
   "execution_count": 110,
   "metadata": {
    "collapsed": true
   },
   "outputs": [],
   "source": [
    "import random\n",
    "def tellJoke():\n",
    "    f=open(\"jokes.txt\")\n",
    "    jokes=[]\n",
    "    for i in f:\n",
    "        jokes.append(i[:-1])\n",
    "    print jokes[random.randint(0,len(jokes)-1)]\n",
    "    f.close()"
   ]
  },
  {
   "cell_type": "code",
   "execution_count": 111,
   "metadata": {
    "collapsed": false
   },
   "outputs": [
    {
     "name": "stdout",
     "output_type": "stream",
     "text": [
      "[\"hip\",\"hip\"]\n"
     ]
    }
   ],
   "source": [
    "tellJoke()"
   ]
  },
  {
   "cell_type": "code",
   "execution_count": null,
   "metadata": {
    "collapsed": true
   },
   "outputs": [],
   "source": []
  }
 ],
 "metadata": {
  "anaconda-cloud": {},
  "kernelspec": {
   "display_name": "Python [default]",
   "language": "python",
   "name": "python2"
  },
  "language_info": {
   "codemirror_mode": {
    "name": "ipython",
    "version": 2
   },
   "file_extension": ".py",
   "mimetype": "text/x-python",
   "name": "python",
   "nbconvert_exporter": "python",
   "pygments_lexer": "ipython2",
   "version": "2.7.12"
  }
 },
 "nbformat": 4,
 "nbformat_minor": 1
}
