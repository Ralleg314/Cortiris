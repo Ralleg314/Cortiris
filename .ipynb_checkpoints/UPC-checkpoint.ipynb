{
 "cells": [
  {
   "cell_type": "code",
   "execution_count": 2,
   "metadata": {
    "collapsed": false
   },
   "outputs": [
    {
     "name": "stdout",
     "output_type": "stream",
     "text": [
      "What do you want to search for ? >> pollas en vinagre\n"
     ]
    },
    {
     "data": {
      "text/plain": [
       "True"
      ]
     },
     "execution_count": 2,
     "metadata": {},
     "output_type": "execute_result"
    }
   ],
   "source": [
    "import webbrowser\n",
    "def searchInGoogle():\n",
    "    \"\"\"\n",
    "    Ask for a text and googles it in a new window\n",
    "    \"\"\"\n",
    "    #We ask what to search\n",
    "    query = raw_input(\"What do you want to search for ? >> \")\n",
    "    #We open google in a new window, searching what the user wanted to.\n",
    "    webbrowser.open('https://www.google.com/#q='+query)\n",
    "    return True\n",
    "searchInGoogle()"
   ]
  },
  {
   "cell_type": "code",
   "execution_count": 49,
   "metadata": {
    "collapsed": false
   },
   "outputs": [
    {
     "name": "stdout",
     "output_type": "stream",
     "text": [
      "What do you want to do? >> yasd\n",
      "When do you want to do it? >> 1,1,1998\n",
      "Do you confirm the next event: 'yasd' the day (YYYY MM DD): 1998,01,01 [Y/N] >> yes\n",
      "1998,01,01\n"
     ]
    }
   ],
   "source": [
    "from dateutil.parser import parse\n",
    "def setUpAnEvent():\n",
    "    '''\n",
    "    Asks for an event and a date for the event.\n",
    "    Asks for confirmation.\n",
    "    Checks if the event is not already planned.\n",
    "    If it isn't, writes the event in a file, otherwise print a message.\n",
    "    '''\n",
    "    #We ask for an event and the date of the event.\n",
    "    eventAction = raw_input(\"What do you want to do? >> \")\n",
    "    eventDay = raw_input(\"When do you want to do it? >> \")\n",
    "    \n",
    "    #Then we pase the date, and change its format to DD/MM/YYYY to store it \n",
    "    formattedDay = parse(eventDay)\n",
    "    formattedDay = formattedDay.strftime('%Y,%m,%d')\n",
    "    \n",
    "    #We ask for confirmation\n",
    "    text = \"Do you confirm the next event: '\"+eventAction+\"' the day (YYYY MM DD): \"+formattedDay\n",
    "    confirmation = raw_input(text+\" [Y/N] >> \").lower()\n",
    "    \n",
    "    if(confirmation == \"y\" or confirmation == \"yes\"):\n",
    "        #We create a tuple and add it to a file if it is not already added\n",
    "        #event=[formattedDay,eventAction]\n",
    "        #if(not isAlreadyCreated(event)):\n",
    "        createEvent(formattedDay,eventAction)\n",
    "        \"\"\"else:\n",
    "            print \"Event already created\"\n",
    "        \"\"\"\n",
    "    else:\n",
    "        print \"Operation cancelled\"\n",
    "    \n",
    "setUpAnEvent()\n"
   ]
  },
  {
   "cell_type": "code",
   "execution_count": 13,
   "metadata": {
    "collapsed": false
   },
   "outputs": [],
   "source": [
    "\"\"\"\n",
    "import csv\n",
    "def isAlreadyCreated(event):\n",
    "    '''\n",
    "    Checks if an event is already created in a file.\n",
    "    Returns True if so, False otherwise.\n",
    "    '''\n",
    "    #We open the events database as eventsFile\n",
    "    with open(\"events.csv\",\"rb\") as eventsFile:\n",
    "        sameEvent = False\n",
    "        #We read the lines of f and store them in lines\n",
    "        lines = csv.reader(eventsFile, delimiter=',')\n",
    "        #We compare the content of each line with the content of the event\n",
    "        for plannedEvent in lines:\n",
    "            if (plannedEvent == event):\n",
    "                return True\n",
    "        return False\n",
    "\"\"\""
   ]
  },
  {
   "cell_type": "code",
   "execution_count": 23,
   "metadata": {
    "collapsed": true
   },
   "outputs": [],
   "source": [
    "\"\"\"\n",
    "import csv\n",
    "def createEvent(event):\n",
    "    '''\n",
    "    Writes the event in the file, in the correct position.\n",
    "    '''\n",
    "    #We open the events database as eventsFile\n",
    "    with open(\"events.csv\",\"rb\") as eventsFile:\n",
    "        lines = csv.reader(eventsFile, delimiter = ',')\n",
    "        newLine=[]\n",
    "        for row in lines:\n",
    "            #We check year\n",
    "            if(row[0] >= event[0] and row[1] >= event[1] and row[2] >= event[2]):\n",
    "                l=i\n",
    "                break\n",
    "        newLine.append(event)\n",
    "    with open(\"events.csv\",\"wb\") as eventsFile:\n",
    "        writer = csv.writer(eventsFile)\n",
    "        writer.writerows(newLine)\n",
    "\"\"\""
   ]
  },
  {
   "cell_type": "code",
   "execution_count": 48,
   "metadata": {
    "collapsed": true
   },
   "outputs": [],
   "source": [
    "\n",
    "def createEvent(eventDay,eventAction):\n",
    "    import csv\n",
    "    with open(\"events.csv\",\"wb\") as eventsFile:\n",
    "        writer = csv.writer(eventsFile, delimiter=',')\n",
    "        writer.writerow((eventDay,eventAction))\n",
    "        for i in eventDay.split(','):\n",
    "            print i\n",
    "\n"
   ]
  },
  {
   "cell_type": "code",
   "execution_count": null,
   "metadata": {
    "collapsed": true
   },
   "outputs": [],
   "source": [
    "def isAlreadyCreated(eventDay,eventAction):\n",
    "    "
   ]
  }
 ],
 "metadata": {
  "anaconda-cloud": {},
  "kernelspec": {
   "display_name": "Python 2",
   "language": "python",
   "name": "python2"
  },
  "language_info": {
   "codemirror_mode": {
    "name": "ipython",
    "version": 2
   },
   "file_extension": ".py",
   "mimetype": "text/x-python",
   "name": "python",
   "nbconvert_exporter": "python",
   "pygments_lexer": "ipython2",
   "version": "2.7.10"
  }
 },
 "nbformat": 4,
 "nbformat_minor": 0
}
