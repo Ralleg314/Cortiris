{
 "cells": [
  {
   "cell_type": "code",
   "execution_count": 1,
   "metadata": {
    "collapsed": false
   },
   "outputs": [
    {
     "name": "stdout",
     "output_type": "stream",
     "text": [
      "What do you want to search for ? >> ajsopd\n"
     ]
    },
    {
     "data": {
      "text/plain": [
       "True"
      ]
     },
     "execution_count": 1,
     "metadata": {},
     "output_type": "execute_result"
    }
   ],
   "source": [
    "import webbrowser\n",
    "def searchInGoogle():\n",
    "    \"\"\"\n",
    "    Ask for a text and googles it in a new window\n",
    "    \"\"\"\n",
    "    #We ask what to search\n",
    "    query = raw_input(\"What do you want to search for ? >> \")\n",
    "    #We open google in a new window, searching what the user wanted to.\n",
    "    webbrowser.open('https://www.google.com/#q='+query)\n",
    "    return True\n",
    "searchInGoogle()"
   ]
  },
  {
   "cell_type": "code",
   "execution_count": 3,
   "metadata": {
    "collapsed": false
   },
   "outputs": [
    {
     "name": "stdout",
     "output_type": "stream",
     "text": [
      "What do you want to do? >> asd\n",
      "When do you want to do it? >> 12.2.1998\n",
      "Do you confirm the next event: 'asd' the day (DD/MM/YYYY): 02/12/1998 [Y/N]N\n"
     ]
    }
   ],
   "source": [
    "from dateutil.parser import parse\n",
    "def setUpAnEvent():\n",
    "    #We ask for an event and the date of the event.\n",
    "    eventAction = raw_input(\"What do you want to do? >> \")\n",
    "    eventDay = raw_input(\"When do you want to do it? >> \")\n",
    "    \n",
    "    #Then we pase the date, and change its format to DD/MM/YYYY to store it \n",
    "    formattedDay = parse(eventDay)\n",
    "    formattedDay = formattedDay.strftime('%d/%m/%Y')\n",
    "    \n",
    "    #We ask for confirmation\n",
    "    text = \"Do you confirm the next event: '\"+eventAction+\"' the day (DD/MM/YYYY): \"+formattedDay\n",
    "    confirmation = raw_input(text+\" [Y/N] >> \").lower()\n",
    "    '''\n",
    "    if(confirmation == \"y\" or confirmation == \"yes\"):\n",
    "        #We create a tuple and add it to a file if it is not already added\n",
    "        event=(eventAction,formattedDay)\n",
    "        if(!isAlreadyCreated(event)):\n",
    "            createEvent(event)\n",
    "        else:\n",
    "            print \"Event already created\"\n",
    "    else:\n",
    "        print \"Operation cancelled\"\n",
    "    '''\n",
    "setUpAnEvent()\n"
   ]
  },
  {
   "cell_type": "code",
   "execution_count": null,
   "metadata": {
    "collapsed": true
   },
   "outputs": [],
   "source": []
  }
 ],
 "metadata": {
  "kernelspec": {
   "display_name": "Python [default]",
   "language": "python",
   "name": "python2"
  },
  "language_info": {
   "codemirror_mode": {
    "name": "ipython",
    "version": 2
   },
   "file_extension": ".py",
   "mimetype": "text/x-python",
   "name": "python",
   "nbconvert_exporter": "python",
   "pygments_lexer": "ipython2",
   "version": "2.7.12"
  }
 },
 "nbformat": 4,
 "nbformat_minor": 0
}
